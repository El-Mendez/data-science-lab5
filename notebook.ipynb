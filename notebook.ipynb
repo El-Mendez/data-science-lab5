{
 "cells": [
  {
   "cell_type": "markdown",
   "source": "- Orlando Cabrera #19943\n- Diana Zaray Corado #191025\n- Pablo Méndez #19195",
   "metadata": {
    "tags": [],
    "cell_id": "31f6d76e-7386-4bfa-b6fc-fa08223e498c",
    "deepnote_to_be_reexecuted": false,
    "source_hash": "ab06f6c2",
    "execution_start": 1663650325787,
    "execution_millis": 0,
    "deepnote_app_coordinates": {
     "x": 0,
     "y": 121,
     "w": 12,
     "h": 5
    },
    "deepnote_cell_type": "markdown",
    "deepnote_cell_height": 119.80000305175781
   }
  },
  {
   "cell_type": "markdown",
   "source": "# Laboratorio 5 - Análisis de Sentimientos",
   "metadata": {
    "cell_id": "7e32a8e8252a4f80824554827007b4e2",
    "tags": [],
    "deepnote_app_coordinates": {
     "x": 0,
     "y": 1,
     "w": 12,
     "h": 5
    },
    "deepnote_cell_type": "markdown",
    "deepnote_cell_height": 81.60000610351562
   }
  },
  {
   "cell_type": "markdown",
   "source": "Utilice el dataset  Natural Language Processing with Disaster Tweets  de Kaggle.  Debe hacer un análisis exploratorio para entender mejor los datos, sabiendo que el objetivo final clasificar si un tweet se refiere a un desastre real no. Genere un informe en pdf con las explicaciones de los pasos que llevó a cabo y los resultados obtenidos. Recuerde que la investigación debe ser reproducible por lo que debe guardar el código que ha utilizado para resolver los ejercicios y/o cada uno de los pasos llevados a cabo si utiliza una herramienta visual. Incluya una nube de palabras que le ayude a detectar las que más se repiten. ",
   "metadata": {
    "cell_id": "a2477b2db42b4e46bc2b745e3433394f",
    "tags": [],
    "deepnote_app_coordinates": {
     "x": 0,
     "y": 7,
     "w": 12,
     "h": 5
    },
    "deepnote_cell_type": "markdown",
    "deepnote_cell_height": 141.60000610351562
   }
  },
  {
   "cell_type": "code",
   "source": "from textblob import TextBlob\nimport pandas as pd\nimport re\nimport nltk\nimport seaborn as sns\nsns.set_theme(style=\"whitegrid\", palette='Set2')\nfrom collections import defaultdict\nnltk.download('punkt')\nnltk.download('stopwords')",
   "metadata": {
    "cell_id": "8f93f1643d6742139d8051123a2d133e",
    "tags": [],
    "deepnote_to_be_reexecuted": false,
    "source_hash": "f5fb3435",
    "execution_start": 1663653830770,
    "execution_millis": 2624,
    "deepnote_app_coordinates": {
     "x": 0,
     "y": 13,
     "w": 12,
     "h": 5
    },
    "deepnote_cell_type": "code",
    "deepnote_cell_height": 361.20001220703125,
    "deepnote_output_heights": [
     null,
     20
    ]
   },
   "execution_count": 1,
   "outputs": [
    {
     "name": "stderr",
     "text": "[nltk_data] Downloading package punkt to /root/nltk_data...\n[nltk_data]   Package punkt is already up-to-date!\n[nltk_data] Downloading package stopwords to /root/nltk_data...\n[nltk_data]   Package stopwords is already up-to-date!\n",
     "output_type": "stream"
    },
    {
     "output_type": "execute_result",
     "execution_count": 1,
     "data": {
      "text/plain": "True"
     },
     "metadata": {}
    }
   ]
  },
  {
   "cell_type": "code",
   "source": "data = pd.read_csv(\"train.csv\")\ndata",
   "metadata": {
    "cell_id": "bcd635459b7b46aaa5a6b9b9274beacc",
    "tags": [],
    "deepnote_to_be_reexecuted": false,
    "source_hash": "65157e91",
    "execution_start": 1663653832781,
    "execution_millis": 636,
    "deepnote_table_state": {
     "pageSize": 10,
     "pageIndex": 0,
     "filters": [],
     "sortBy": []
    },
    "deepnote_table_loading": false,
    "deepnote_app_coordinates": {
     "x": 0,
     "y": 19,
     "w": 12,
     "h": 5
    },
    "deepnote_cell_type": "code",
    "deepnote_cell_height": 612.2000122070312
   },
   "execution_count": 2,
   "outputs": [
    {
     "output_type": "execute_result",
     "execution_count": 2,
     "data": {
      "application/vnd.deepnote.dataframe.v3+json": {
       "column_count": 5,
       "row_count": 7613,
       "columns": [
        {
         "name": "id",
         "dtype": "int64",
         "stats": {
          "unique_count": 7613,
          "nan_count": 0,
          "min": "1",
          "max": "10873",
          "histogram": [
           {
            "bin_start": 1,
            "bin_end": 1088.2,
            "count": 755
           },
           {
            "bin_start": 1088.2,
            "bin_end": 2175.4,
            "count": 753
           },
           {
            "bin_start": 2175.4,
            "bin_end": 3262.6000000000004,
            "count": 767
           },
           {
            "bin_start": 3262.6000000000004,
            "bin_end": 4349.8,
            "count": 754
           },
           {
            "bin_start": 4349.8,
            "bin_end": 5437,
            "count": 793
           },
           {
            "bin_start": 5437,
            "bin_end": 6524.200000000001,
            "count": 766
           },
           {
            "bin_start": 6524.200000000001,
            "bin_end": 7611.400000000001,
            "count": 745
           },
           {
            "bin_start": 7611.400000000001,
            "bin_end": 8698.6,
            "count": 759
           },
           {
            "bin_start": 8698.6,
            "bin_end": 9785.800000000001,
            "count": 741
           },
           {
            "bin_start": 9785.800000000001,
            "bin_end": 10873,
            "count": 780
           }
          ]
         }
        },
        {
         "name": "keyword",
         "dtype": "object",
         "stats": {
          "unique_count": 221,
          "nan_count": 61,
          "categories": [
           {
            "name": "fatalities",
            "count": 45
           },
           {
            "name": "220 others",
            "count": 7507
           },
           {
            "name": "Missing",
            "count": 61
           }
          ]
         }
        },
        {
         "name": "location",
         "dtype": "object",
         "stats": {
          "unique_count": 3341,
          "nan_count": 2533,
          "categories": [
           {
            "name": "USA",
            "count": 104
           },
           {
            "name": "3340 others",
            "count": 4976
           },
           {
            "name": "Missing",
            "count": 2533
           }
          ]
         }
        },
        {
         "name": "text",
         "dtype": "object",
         "stats": {
          "unique_count": 7503,
          "nan_count": 0,
          "categories": [
           {
            "name": "11-Year-Old Boy Charged With Manslaughter of Toddler: Report: An 11-year-old boy has been charged with manslaughter over the fatal sh...",
            "count": 10
           },
           {
            "name": "He came to a land which was engulfed in tribal war and turned it into a land of peace i.e. Madinah. #ProphetMuhammad #islam",
            "count": 6
           },
           {
            "name": "7501 others",
            "count": 7597
           }
          ]
         }
        },
        {
         "name": "target",
         "dtype": "int64",
         "stats": {
          "unique_count": 2,
          "nan_count": 0,
          "min": "0",
          "max": "1",
          "histogram": [
           {
            "bin_start": 0,
            "bin_end": 0.1,
            "count": 4342
           },
           {
            "bin_start": 0.1,
            "bin_end": 0.2,
            "count": 0
           },
           {
            "bin_start": 0.2,
            "bin_end": 0.30000000000000004,
            "count": 0
           },
           {
            "bin_start": 0.30000000000000004,
            "bin_end": 0.4,
            "count": 0
           },
           {
            "bin_start": 0.4,
            "bin_end": 0.5,
            "count": 0
           },
           {
            "bin_start": 0.5,
            "bin_end": 0.6000000000000001,
            "count": 0
           },
           {
            "bin_start": 0.6000000000000001,
            "bin_end": 0.7000000000000001,
            "count": 0
           },
           {
            "bin_start": 0.7000000000000001,
            "bin_end": 0.8,
            "count": 0
           },
           {
            "bin_start": 0.8,
            "bin_end": 0.9,
            "count": 0
           },
           {
            "bin_start": 0.9,
            "bin_end": 1,
            "count": 3271
           }
          ]
         }
        },
        {
         "name": "_deepnote_index_column",
         "dtype": "int64"
        }
       ],
       "rows": [
        {
         "id": "1",
         "keyword": "nan",
         "location": "nan",
         "text": "Our Deeds are the Reason of this #earthquake May ALLAH Forgive us all",
         "target": "1",
         "_deepnote_index_column": "0"
        },
        {
         "id": "4",
         "keyword": "nan",
         "location": "nan",
         "text": "Forest fire near La Ronge Sask. Canada",
         "target": "1",
         "_deepnote_index_column": "1"
        },
        {
         "id": "5",
         "keyword": "nan",
         "location": "nan",
         "text": "All residents asked to 'shelter in place' are being notified by officers. No other evacuation or shelter in place orders are expected",
         "target": "1",
         "_deepnote_index_column": "2"
        },
        {
         "id": "6",
         "keyword": "nan",
         "location": "nan",
         "text": "13,000 people receive #wildfires evacuation orders in California ",
         "target": "1",
         "_deepnote_index_column": "3"
        },
        {
         "id": "7",
         "keyword": "nan",
         "location": "nan",
         "text": "Just got sent this photo from Ruby #Alaska as smoke from #wildfires pours into a school ",
         "target": "1",
         "_deepnote_index_column": "4"
        },
        {
         "id": "8",
         "keyword": "nan",
         "location": "nan",
         "text": "#RockyFire Update => California Hwy. 20 closed in both directions due to Lake County fire - #CAfire #wildfires",
         "target": "1",
         "_deepnote_index_column": "5"
        },
        {
         "id": "10",
         "keyword": "nan",
         "location": "nan",
         "text": "#flood #disaster Heavy rain causes flash flooding of streets in Manitou, Colorado Springs areas",
         "target": "1",
         "_deepnote_index_column": "6"
        },
        {
         "id": "13",
         "keyword": "nan",
         "location": "nan",
         "text": "I'm on top of the hill and I can see a fire in the woods...",
         "target": "1",
         "_deepnote_index_column": "7"
        },
        {
         "id": "14",
         "keyword": "nan",
         "location": "nan",
         "text": "There's an emergency evacuation happening now in the building across the street",
         "target": "1",
         "_deepnote_index_column": "8"
        },
        {
         "id": "15",
         "keyword": "nan",
         "location": "nan",
         "text": "I'm afraid that the tornado is coming to our area...",
         "target": "1",
         "_deepnote_index_column": "9"
        }
       ]
      },
      "text/plain": "         id keyword location  \\\n0         1     NaN      NaN   \n1         4     NaN      NaN   \n2         5     NaN      NaN   \n3         6     NaN      NaN   \n4         7     NaN      NaN   \n...     ...     ...      ...   \n7608  10869     NaN      NaN   \n7609  10870     NaN      NaN   \n7610  10871     NaN      NaN   \n7611  10872     NaN      NaN   \n7612  10873     NaN      NaN   \n\n                                                   text  target  \n0     Our Deeds are the Reason of this #earthquake M...       1  \n1                Forest fire near La Ronge Sask. Canada       1  \n2     All residents asked to 'shelter in place' are ...       1  \n3     13,000 people receive #wildfires evacuation or...       1  \n4     Just got sent this photo from Ruby #Alaska as ...       1  \n...                                                 ...     ...  \n7608  Two giant cranes holding a bridge collapse int...       1  \n7609  @aria_ahrary @TheTawniest The out of control w...       1  \n7610  M1.94 [01:04 UTC]?5km S of Volcano Hawaii. htt...       1  \n7611  Police investigating after an e-bike collided ...       1  \n7612  The Latest: More Homes Razed by Northern Calif...       1  \n\n[7613 rows x 5 columns]",
      "text/html": "<div>\n<style scoped>\n    .dataframe tbody tr th:only-of-type {\n        vertical-align: middle;\n    }\n\n    .dataframe tbody tr th {\n        vertical-align: top;\n    }\n\n    .dataframe thead th {\n        text-align: right;\n    }\n</style>\n<table border=\"1\" class=\"dataframe\">\n  <thead>\n    <tr style=\"text-align: right;\">\n      <th></th>\n      <th>id</th>\n      <th>keyword</th>\n      <th>location</th>\n      <th>text</th>\n      <th>target</th>\n    </tr>\n  </thead>\n  <tbody>\n    <tr>\n      <th>0</th>\n      <td>1</td>\n      <td>NaN</td>\n      <td>NaN</td>\n      <td>Our Deeds are the Reason of this #earthquake M...</td>\n      <td>1</td>\n    </tr>\n    <tr>\n      <th>1</th>\n      <td>4</td>\n      <td>NaN</td>\n      <td>NaN</td>\n      <td>Forest fire near La Ronge Sask. Canada</td>\n      <td>1</td>\n    </tr>\n    <tr>\n      <th>2</th>\n      <td>5</td>\n      <td>NaN</td>\n      <td>NaN</td>\n      <td>All residents asked to 'shelter in place' are ...</td>\n      <td>1</td>\n    </tr>\n    <tr>\n      <th>3</th>\n      <td>6</td>\n      <td>NaN</td>\n      <td>NaN</td>\n      <td>13,000 people receive #wildfires evacuation or...</td>\n      <td>1</td>\n    </tr>\n    <tr>\n      <th>4</th>\n      <td>7</td>\n      <td>NaN</td>\n      <td>NaN</td>\n      <td>Just got sent this photo from Ruby #Alaska as ...</td>\n      <td>1</td>\n    </tr>\n    <tr>\n      <th>...</th>\n      <td>...</td>\n      <td>...</td>\n      <td>...</td>\n      <td>...</td>\n      <td>...</td>\n    </tr>\n    <tr>\n      <th>7608</th>\n      <td>10869</td>\n      <td>NaN</td>\n      <td>NaN</td>\n      <td>Two giant cranes holding a bridge collapse int...</td>\n      <td>1</td>\n    </tr>\n    <tr>\n      <th>7609</th>\n      <td>10870</td>\n      <td>NaN</td>\n      <td>NaN</td>\n      <td>@aria_ahrary @TheTawniest The out of control w...</td>\n      <td>1</td>\n    </tr>\n    <tr>\n      <th>7610</th>\n      <td>10871</td>\n      <td>NaN</td>\n      <td>NaN</td>\n      <td>M1.94 [01:04 UTC]?5km S of Volcano Hawaii. htt...</td>\n      <td>1</td>\n    </tr>\n    <tr>\n      <th>7611</th>\n      <td>10872</td>\n      <td>NaN</td>\n      <td>NaN</td>\n      <td>Police investigating after an e-bike collided ...</td>\n      <td>1</td>\n    </tr>\n    <tr>\n      <th>7612</th>\n      <td>10873</td>\n      <td>NaN</td>\n      <td>NaN</td>\n      <td>The Latest: More Homes Razed by Northern Calif...</td>\n      <td>1</td>\n    </tr>\n  </tbody>\n</table>\n<p>7613 rows × 5 columns</p>\n</div>"
     },
     "metadata": {}
    }
   ]
  },
  {
   "cell_type": "markdown",
   "source": "## Descripción de los datos\nEl conjunto de datos se llama Natural Language Processing with Disaster Tweets, el cual fue obtenido gracias a la página Kaggle. Posee un total de 7613 observaciones. Cuenta con 5 variables categóricas, las cuales son: \n- id \n- keyword\n- location\n- text\n- target ",
   "metadata": {
    "cell_id": "77859d9f29424e6aac7e5960f90ed35b",
    "tags": [],
    "deepnote_app_coordinates": {
     "x": 0,
     "y": 151,
     "w": 12,
     "h": 5
    },
    "deepnote_cell_type": "markdown",
    "deepnote_cell_height": 282.3999938964844
   }
  },
  {
   "cell_type": "code",
   "source": "data.info()",
   "metadata": {
    "cell_id": "36115cf205b64f7fadbba0bd69139cc7",
    "tags": [],
    "deepnote_to_be_reexecuted": false,
    "source_hash": "957547ae",
    "execution_start": 1663653832846,
    "execution_millis": 573,
    "deepnote_app_coordinates": {
     "x": 0,
     "y": 163,
     "w": 12,
     "h": 5
    },
    "deepnote_cell_type": "code",
    "deepnote_cell_height": 326.3999938964844
   },
   "outputs": [
    {
     "name": "stdout",
     "text": "<class 'pandas.core.frame.DataFrame'>\nRangeIndex: 7613 entries, 0 to 7612\nData columns (total 5 columns):\n #   Column    Non-Null Count  Dtype \n---  ------    --------------  ----- \n 0   id        7613 non-null   int64 \n 1   keyword   7552 non-null   object\n 2   location  5080 non-null   object\n 3   text      7613 non-null   object\n 4   target    7613 non-null   int64 \ndtypes: int64(2), object(3)\nmemory usage: 297.5+ KB\n",
     "output_type": "stream"
    }
   ],
   "execution_count": 3
  },
  {
   "cell_type": "markdown",
   "source": "## Preprocesamiento",
   "metadata": {
    "cell_id": "62823c18620a408ea1dfeabb0a43e84b",
    "tags": [],
    "deepnote_app_coordinates": {
     "x": 0,
     "y": 25,
     "w": 12,
     "h": 5
    },
    "deepnote_cell_type": "markdown",
    "deepnote_cell_height": 69.60000610351562
   }
  },
  {
   "cell_type": "code",
   "source": "data.head()",
   "metadata": {
    "cell_id": "261e898b715e4250b3446d24938a56a1",
    "tags": [],
    "deepnote_to_be_reexecuted": false,
    "source_hash": "41313cfa",
    "execution_start": 1663653832857,
    "execution_millis": 574,
    "deepnote_table_state": {
     "pageSize": 10,
     "pageIndex": 3,
     "filters": [],
     "sortBy": []
    },
    "deepnote_table_loading": false,
    "deepnote_app_coordinates": {
     "x": 0,
     "y": 31,
     "w": 12,
     "h": 5
    },
    "deepnote_cell_type": "code",
    "deepnote_cell_height": 389.20001220703125
   },
   "execution_count": 4,
   "outputs": [
    {
     "output_type": "execute_result",
     "execution_count": 4,
     "data": {
      "application/vnd.deepnote.dataframe.v3+json": {
       "column_count": 5,
       "row_count": 5,
       "columns": [
        {
         "name": "id",
         "dtype": "int64",
         "stats": {
          "unique_count": 5,
          "nan_count": 0,
          "min": "1",
          "max": "7",
          "histogram": [
           {
            "bin_start": 1,
            "bin_end": 1.6,
            "count": 1
           },
           {
            "bin_start": 1.6,
            "bin_end": 2.2,
            "count": 0
           },
           {
            "bin_start": 2.2,
            "bin_end": 2.8,
            "count": 0
           },
           {
            "bin_start": 2.8,
            "bin_end": 3.4,
            "count": 0
           },
           {
            "bin_start": 3.4,
            "bin_end": 4,
            "count": 0
           },
           {
            "bin_start": 4,
            "bin_end": 4.6,
            "count": 1
           },
           {
            "bin_start": 4.6,
            "bin_end": 5.2,
            "count": 1
           },
           {
            "bin_start": 5.2,
            "bin_end": 5.8,
            "count": 0
           },
           {
            "bin_start": 5.8,
            "bin_end": 6.3999999999999995,
            "count": 1
           },
           {
            "bin_start": 6.3999999999999995,
            "bin_end": 7,
            "count": 1
           }
          ]
         }
        },
        {
         "name": "keyword",
         "dtype": "object",
         "stats": {
          "unique_count": 0,
          "nan_count": 5,
          "categories": [
           {
            "name": "Missing",
            "count": 5
           }
          ]
         }
        },
        {
         "name": "location",
         "dtype": "object",
         "stats": {
          "unique_count": 0,
          "nan_count": 5,
          "categories": [
           {
            "name": "Missing",
            "count": 5
           }
          ]
         }
        },
        {
         "name": "text",
         "dtype": "object",
         "stats": {
          "unique_count": 5,
          "nan_count": 0,
          "categories": [
           {
            "name": "Our Deeds are the Reason of this #earthquake May ALLAH Forgive us all",
            "count": 1
           },
           {
            "name": "Forest fire near La Ronge Sask. Canada",
            "count": 1
           },
           {
            "name": "3 others",
            "count": 3
           }
          ]
         }
        },
        {
         "name": "target",
         "dtype": "int64",
         "stats": {
          "unique_count": 1,
          "nan_count": 0,
          "min": "1",
          "max": "1",
          "histogram": [
           {
            "bin_start": 0.5,
            "bin_end": 0.6,
            "count": 0
           },
           {
            "bin_start": 0.6,
            "bin_end": 0.7,
            "count": 0
           },
           {
            "bin_start": 0.7,
            "bin_end": 0.8,
            "count": 0
           },
           {
            "bin_start": 0.8,
            "bin_end": 0.9,
            "count": 0
           },
           {
            "bin_start": 0.9,
            "bin_end": 1,
            "count": 0
           },
           {
            "bin_start": 1,
            "bin_end": 1.1,
            "count": 5
           },
           {
            "bin_start": 1.1,
            "bin_end": 1.2000000000000002,
            "count": 0
           },
           {
            "bin_start": 1.2000000000000002,
            "bin_end": 1.3,
            "count": 0
           },
           {
            "bin_start": 1.3,
            "bin_end": 1.4,
            "count": 0
           },
           {
            "bin_start": 1.4,
            "bin_end": 1.5,
            "count": 0
           }
          ]
         }
        },
        {
         "name": "_deepnote_index_column",
         "dtype": "int64"
        }
       ],
       "rows": [
        {
         "id": "1",
         "keyword": "nan",
         "location": "nan",
         "text": "Our Deeds are the Reason of this #earthquake May ALLAH Forgive us all",
         "target": "1",
         "_deepnote_index_column": "0"
        },
        {
         "id": "4",
         "keyword": "nan",
         "location": "nan",
         "text": "Forest fire near La Ronge Sask. Canada",
         "target": "1",
         "_deepnote_index_column": "1"
        },
        {
         "id": "5",
         "keyword": "nan",
         "location": "nan",
         "text": "All residents asked to 'shelter in place' are being notified by officers. No other evacuation or shelter in place orders are expected",
         "target": "1",
         "_deepnote_index_column": "2"
        },
        {
         "id": "6",
         "keyword": "nan",
         "location": "nan",
         "text": "13,000 people receive #wildfires evacuation orders in California ",
         "target": "1",
         "_deepnote_index_column": "3"
        },
        {
         "id": "7",
         "keyword": "nan",
         "location": "nan",
         "text": "Just got sent this photo from Ruby #Alaska as smoke from #wildfires pours into a school ",
         "target": "1",
         "_deepnote_index_column": "4"
        }
       ]
      },
      "text/plain": "   id keyword location                                               text  \\\n0   1     NaN      NaN  Our Deeds are the Reason of this #earthquake M...   \n1   4     NaN      NaN             Forest fire near La Ronge Sask. Canada   \n2   5     NaN      NaN  All residents asked to 'shelter in place' are ...   \n3   6     NaN      NaN  13,000 people receive #wildfires evacuation or...   \n4   7     NaN      NaN  Just got sent this photo from Ruby #Alaska as ...   \n\n   target  \n0       1  \n1       1  \n2       1  \n3       1  \n4       1  ",
      "text/html": "<div>\n<style scoped>\n    .dataframe tbody tr th:only-of-type {\n        vertical-align: middle;\n    }\n\n    .dataframe tbody tr th {\n        vertical-align: top;\n    }\n\n    .dataframe thead th {\n        text-align: right;\n    }\n</style>\n<table border=\"1\" class=\"dataframe\">\n  <thead>\n    <tr style=\"text-align: right;\">\n      <th></th>\n      <th>id</th>\n      <th>keyword</th>\n      <th>location</th>\n      <th>text</th>\n      <th>target</th>\n    </tr>\n  </thead>\n  <tbody>\n    <tr>\n      <th>0</th>\n      <td>1</td>\n      <td>NaN</td>\n      <td>NaN</td>\n      <td>Our Deeds are the Reason of this #earthquake M...</td>\n      <td>1</td>\n    </tr>\n    <tr>\n      <th>1</th>\n      <td>4</td>\n      <td>NaN</td>\n      <td>NaN</td>\n      <td>Forest fire near La Ronge Sask. Canada</td>\n      <td>1</td>\n    </tr>\n    <tr>\n      <th>2</th>\n      <td>5</td>\n      <td>NaN</td>\n      <td>NaN</td>\n      <td>All residents asked to 'shelter in place' are ...</td>\n      <td>1</td>\n    </tr>\n    <tr>\n      <th>3</th>\n      <td>6</td>\n      <td>NaN</td>\n      <td>NaN</td>\n      <td>13,000 people receive #wildfires evacuation or...</td>\n      <td>1</td>\n    </tr>\n    <tr>\n      <th>4</th>\n      <td>7</td>\n      <td>NaN</td>\n      <td>NaN</td>\n      <td>Just got sent this photo from Ruby #Alaska as ...</td>\n      <td>1</td>\n    </tr>\n  </tbody>\n</table>\n</div>"
     },
     "metadata": {}
    }
   ]
  },
  {
   "cell_type": "markdown",
   "source": "### Convertir el Texto a Minúsculas",
   "metadata": {
    "cell_id": "26e8acb494824a96b66fcfd930e4b030",
    "tags": [],
    "deepnote_app_coordinates": {
     "x": 0,
     "y": 37,
     "w": 12,
     "h": 5
    },
    "deepnote_cell_type": "markdown",
    "deepnote_cell_height": 61.600006103515625
   }
  },
  {
   "cell_type": "code",
   "source": "data['text'] = data['text'].str.lower()\ndata.head()",
   "metadata": {
    "cell_id": "60d14dc0d5b14a9da73acc3648a3d499",
    "tags": [],
    "deepnote_to_be_reexecuted": false,
    "source_hash": "c298c46a",
    "execution_start": 1663653832873,
    "execution_millis": 558,
    "deepnote_table_state": {
     "pageSize": 100,
     "pageIndex": 0,
     "filters": [],
     "sortBy": []
    },
    "deepnote_table_loading": false,
    "deepnote_app_coordinates": {
     "x": 0,
     "y": 43,
     "w": 12,
     "h": 5
    },
    "deepnote_cell_type": "code",
    "deepnote_cell_height": 407.20001220703125
   },
   "execution_count": 5,
   "outputs": [
    {
     "output_type": "execute_result",
     "execution_count": 5,
     "data": {
      "application/vnd.deepnote.dataframe.v3+json": {
       "column_count": 5,
       "row_count": 5,
       "columns": [
        {
         "name": "id",
         "dtype": "int64",
         "stats": {
          "unique_count": 5,
          "nan_count": 0,
          "min": "1",
          "max": "7",
          "histogram": [
           {
            "bin_start": 1,
            "bin_end": 1.6,
            "count": 1
           },
           {
            "bin_start": 1.6,
            "bin_end": 2.2,
            "count": 0
           },
           {
            "bin_start": 2.2,
            "bin_end": 2.8,
            "count": 0
           },
           {
            "bin_start": 2.8,
            "bin_end": 3.4,
            "count": 0
           },
           {
            "bin_start": 3.4,
            "bin_end": 4,
            "count": 0
           },
           {
            "bin_start": 4,
            "bin_end": 4.6,
            "count": 1
           },
           {
            "bin_start": 4.6,
            "bin_end": 5.2,
            "count": 1
           },
           {
            "bin_start": 5.2,
            "bin_end": 5.8,
            "count": 0
           },
           {
            "bin_start": 5.8,
            "bin_end": 6.3999999999999995,
            "count": 1
           },
           {
            "bin_start": 6.3999999999999995,
            "bin_end": 7,
            "count": 1
           }
          ]
         }
        },
        {
         "name": "keyword",
         "dtype": "object",
         "stats": {
          "unique_count": 0,
          "nan_count": 5,
          "categories": [
           {
            "name": "Missing",
            "count": 5
           }
          ]
         }
        },
        {
         "name": "location",
         "dtype": "object",
         "stats": {
          "unique_count": 0,
          "nan_count": 5,
          "categories": [
           {
            "name": "Missing",
            "count": 5
           }
          ]
         }
        },
        {
         "name": "text",
         "dtype": "object",
         "stats": {
          "unique_count": 5,
          "nan_count": 0,
          "categories": [
           {
            "name": "our deeds are the reason of this #earthquake may allah forgive us all",
            "count": 1
           },
           {
            "name": "forest fire near la ronge sask. canada",
            "count": 1
           },
           {
            "name": "3 others",
            "count": 3
           }
          ]
         }
        },
        {
         "name": "target",
         "dtype": "int64",
         "stats": {
          "unique_count": 1,
          "nan_count": 0,
          "min": "1",
          "max": "1",
          "histogram": [
           {
            "bin_start": 0.5,
            "bin_end": 0.6,
            "count": 0
           },
           {
            "bin_start": 0.6,
            "bin_end": 0.7,
            "count": 0
           },
           {
            "bin_start": 0.7,
            "bin_end": 0.8,
            "count": 0
           },
           {
            "bin_start": 0.8,
            "bin_end": 0.9,
            "count": 0
           },
           {
            "bin_start": 0.9,
            "bin_end": 1,
            "count": 0
           },
           {
            "bin_start": 1,
            "bin_end": 1.1,
            "count": 5
           },
           {
            "bin_start": 1.1,
            "bin_end": 1.2000000000000002,
            "count": 0
           },
           {
            "bin_start": 1.2000000000000002,
            "bin_end": 1.3,
            "count": 0
           },
           {
            "bin_start": 1.3,
            "bin_end": 1.4,
            "count": 0
           },
           {
            "bin_start": 1.4,
            "bin_end": 1.5,
            "count": 0
           }
          ]
         }
        },
        {
         "name": "_deepnote_index_column",
         "dtype": "int64"
        }
       ],
       "rows": [
        {
         "id": "1",
         "keyword": "nan",
         "location": "nan",
         "text": "our deeds are the reason of this #earthquake may allah forgive us all",
         "target": "1",
         "_deepnote_index_column": "0"
        },
        {
         "id": "4",
         "keyword": "nan",
         "location": "nan",
         "text": "forest fire near la ronge sask. canada",
         "target": "1",
         "_deepnote_index_column": "1"
        },
        {
         "id": "5",
         "keyword": "nan",
         "location": "nan",
         "text": "all residents asked to 'shelter in place' are being notified by officers. no other evacuation or shelter in place orders are expected",
         "target": "1",
         "_deepnote_index_column": "2"
        },
        {
         "id": "6",
         "keyword": "nan",
         "location": "nan",
         "text": "13,000 people receive #wildfires evacuation orders in california ",
         "target": "1",
         "_deepnote_index_column": "3"
        },
        {
         "id": "7",
         "keyword": "nan",
         "location": "nan",
         "text": "just got sent this photo from ruby #alaska as smoke from #wildfires pours into a school ",
         "target": "1",
         "_deepnote_index_column": "4"
        }
       ]
      },
      "text/plain": "   id keyword location                                               text  \\\n0   1     NaN      NaN  our deeds are the reason of this #earthquake m...   \n1   4     NaN      NaN             forest fire near la ronge sask. canada   \n2   5     NaN      NaN  all residents asked to 'shelter in place' are ...   \n3   6     NaN      NaN  13,000 people receive #wildfires evacuation or...   \n4   7     NaN      NaN  just got sent this photo from ruby #alaska as ...   \n\n   target  \n0       1  \n1       1  \n2       1  \n3       1  \n4       1  ",
      "text/html": "<div>\n<style scoped>\n    .dataframe tbody tr th:only-of-type {\n        vertical-align: middle;\n    }\n\n    .dataframe tbody tr th {\n        vertical-align: top;\n    }\n\n    .dataframe thead th {\n        text-align: right;\n    }\n</style>\n<table border=\"1\" class=\"dataframe\">\n  <thead>\n    <tr style=\"text-align: right;\">\n      <th></th>\n      <th>id</th>\n      <th>keyword</th>\n      <th>location</th>\n      <th>text</th>\n      <th>target</th>\n    </tr>\n  </thead>\n  <tbody>\n    <tr>\n      <th>0</th>\n      <td>1</td>\n      <td>NaN</td>\n      <td>NaN</td>\n      <td>our deeds are the reason of this #earthquake m...</td>\n      <td>1</td>\n    </tr>\n    <tr>\n      <th>1</th>\n      <td>4</td>\n      <td>NaN</td>\n      <td>NaN</td>\n      <td>forest fire near la ronge sask. canada</td>\n      <td>1</td>\n    </tr>\n    <tr>\n      <th>2</th>\n      <td>5</td>\n      <td>NaN</td>\n      <td>NaN</td>\n      <td>all residents asked to 'shelter in place' are ...</td>\n      <td>1</td>\n    </tr>\n    <tr>\n      <th>3</th>\n      <td>6</td>\n      <td>NaN</td>\n      <td>NaN</td>\n      <td>13,000 people receive #wildfires evacuation or...</td>\n      <td>1</td>\n    </tr>\n    <tr>\n      <th>4</th>\n      <td>7</td>\n      <td>NaN</td>\n      <td>NaN</td>\n      <td>just got sent this photo from ruby #alaska as ...</td>\n      <td>1</td>\n    </tr>\n  </tbody>\n</table>\n</div>"
     },
     "metadata": {}
    }
   ]
  },
  {
   "cell_type": "markdown",
   "source": "### Quitar URLs",
   "metadata": {
    "cell_id": "1348318c6a544a23855771f2980c8031",
    "tags": [],
    "deepnote_app_coordinates": {
     "x": 0,
     "y": 49,
     "w": 12,
     "h": 5
    },
    "deepnote_cell_type": "markdown",
    "deepnote_cell_height": 61.600006103515625
   }
  },
  {
   "cell_type": "code",
   "source": "expression = r\"(?i)\\b((?:https?://|www\\d{0,3}[.]|[a-z0-9.\\-]+[.][a-z]{2,4}/)(?:[^\\s()<>]+|\\(([^\\s()<>]+|(\\([^\\s()<>]+\\)))*\\))+(?:\\(([^\\s()<>]+|(\\([^\\s()<>]+\\)))*\\)|[^\\s`!()\\[\\]{};:'\\\".,<>?«»“”‘’]))\"\n\ndata['text'] = data['text'].apply(lambda s: re.sub(expression, \"\", s))\ndata.head()",
   "metadata": {
    "cell_id": "c134adf29da74d20801723e1bdb72d76",
    "tags": [],
    "deepnote_to_be_reexecuted": false,
    "source_hash": "a5b56270",
    "execution_start": 1663653832925,
    "execution_millis": 506,
    "deepnote_table_state": {
     "pageSize": 10,
     "pageIndex": 0,
     "filters": [],
     "sortBy": []
    },
    "deepnote_table_loading": false,
    "deepnote_app_coordinates": {
     "x": 0,
     "y": 55,
     "w": 12,
     "h": 5
    },
    "deepnote_cell_type": "code",
    "deepnote_cell_height": 448.20001220703125
   },
   "execution_count": 6,
   "outputs": [
    {
     "output_type": "execute_result",
     "execution_count": 6,
     "data": {
      "application/vnd.deepnote.dataframe.v3+json": {
       "column_count": 5,
       "row_count": 5,
       "columns": [
        {
         "name": "id",
         "dtype": "int64",
         "stats": {
          "unique_count": 5,
          "nan_count": 0,
          "min": "1",
          "max": "7",
          "histogram": [
           {
            "bin_start": 1,
            "bin_end": 1.6,
            "count": 1
           },
           {
            "bin_start": 1.6,
            "bin_end": 2.2,
            "count": 0
           },
           {
            "bin_start": 2.2,
            "bin_end": 2.8,
            "count": 0
           },
           {
            "bin_start": 2.8,
            "bin_end": 3.4,
            "count": 0
           },
           {
            "bin_start": 3.4,
            "bin_end": 4,
            "count": 0
           },
           {
            "bin_start": 4,
            "bin_end": 4.6,
            "count": 1
           },
           {
            "bin_start": 4.6,
            "bin_end": 5.2,
            "count": 1
           },
           {
            "bin_start": 5.2,
            "bin_end": 5.8,
            "count": 0
           },
           {
            "bin_start": 5.8,
            "bin_end": 6.3999999999999995,
            "count": 1
           },
           {
            "bin_start": 6.3999999999999995,
            "bin_end": 7,
            "count": 1
           }
          ]
         }
        },
        {
         "name": "keyword",
         "dtype": "object",
         "stats": {
          "unique_count": 0,
          "nan_count": 5,
          "categories": [
           {
            "name": "Missing",
            "count": 5
           }
          ]
         }
        },
        {
         "name": "location",
         "dtype": "object",
         "stats": {
          "unique_count": 0,
          "nan_count": 5,
          "categories": [
           {
            "name": "Missing",
            "count": 5
           }
          ]
         }
        },
        {
         "name": "text",
         "dtype": "object",
         "stats": {
          "unique_count": 5,
          "nan_count": 0,
          "categories": [
           {
            "name": "our deeds are the reason of this #earthquake may allah forgive us all",
            "count": 1
           },
           {
            "name": "forest fire near la ronge sask. canada",
            "count": 1
           },
           {
            "name": "3 others",
            "count": 3
           }
          ]
         }
        },
        {
         "name": "target",
         "dtype": "int64",
         "stats": {
          "unique_count": 1,
          "nan_count": 0,
          "min": "1",
          "max": "1",
          "histogram": [
           {
            "bin_start": 0.5,
            "bin_end": 0.6,
            "count": 0
           },
           {
            "bin_start": 0.6,
            "bin_end": 0.7,
            "count": 0
           },
           {
            "bin_start": 0.7,
            "bin_end": 0.8,
            "count": 0
           },
           {
            "bin_start": 0.8,
            "bin_end": 0.9,
            "count": 0
           },
           {
            "bin_start": 0.9,
            "bin_end": 1,
            "count": 0
           },
           {
            "bin_start": 1,
            "bin_end": 1.1,
            "count": 5
           },
           {
            "bin_start": 1.1,
            "bin_end": 1.2000000000000002,
            "count": 0
           },
           {
            "bin_start": 1.2000000000000002,
            "bin_end": 1.3,
            "count": 0
           },
           {
            "bin_start": 1.3,
            "bin_end": 1.4,
            "count": 0
           },
           {
            "bin_start": 1.4,
            "bin_end": 1.5,
            "count": 0
           }
          ]
         }
        },
        {
         "name": "_deepnote_index_column",
         "dtype": "int64"
        }
       ],
       "rows": [
        {
         "id": "1",
         "keyword": "nan",
         "location": "nan",
         "text": "our deeds are the reason of this #earthquake may allah forgive us all",
         "target": "1",
         "_deepnote_index_column": "0"
        },
        {
         "id": "4",
         "keyword": "nan",
         "location": "nan",
         "text": "forest fire near la ronge sask. canada",
         "target": "1",
         "_deepnote_index_column": "1"
        },
        {
         "id": "5",
         "keyword": "nan",
         "location": "nan",
         "text": "all residents asked to 'shelter in place' are being notified by officers. no other evacuation or shelter in place orders are expected",
         "target": "1",
         "_deepnote_index_column": "2"
        },
        {
         "id": "6",
         "keyword": "nan",
         "location": "nan",
         "text": "13,000 people receive #wildfires evacuation orders in california ",
         "target": "1",
         "_deepnote_index_column": "3"
        },
        {
         "id": "7",
         "keyword": "nan",
         "location": "nan",
         "text": "just got sent this photo from ruby #alaska as smoke from #wildfires pours into a school ",
         "target": "1",
         "_deepnote_index_column": "4"
        }
       ]
      },
      "text/plain": "   id keyword location                                               text  \\\n0   1     NaN      NaN  our deeds are the reason of this #earthquake m...   \n1   4     NaN      NaN             forest fire near la ronge sask. canada   \n2   5     NaN      NaN  all residents asked to 'shelter in place' are ...   \n3   6     NaN      NaN  13,000 people receive #wildfires evacuation or...   \n4   7     NaN      NaN  just got sent this photo from ruby #alaska as ...   \n\n   target  \n0       1  \n1       1  \n2       1  \n3       1  \n4       1  ",
      "text/html": "<div>\n<style scoped>\n    .dataframe tbody tr th:only-of-type {\n        vertical-align: middle;\n    }\n\n    .dataframe tbody tr th {\n        vertical-align: top;\n    }\n\n    .dataframe thead th {\n        text-align: right;\n    }\n</style>\n<table border=\"1\" class=\"dataframe\">\n  <thead>\n    <tr style=\"text-align: right;\">\n      <th></th>\n      <th>id</th>\n      <th>keyword</th>\n      <th>location</th>\n      <th>text</th>\n      <th>target</th>\n    </tr>\n  </thead>\n  <tbody>\n    <tr>\n      <th>0</th>\n      <td>1</td>\n      <td>NaN</td>\n      <td>NaN</td>\n      <td>our deeds are the reason of this #earthquake m...</td>\n      <td>1</td>\n    </tr>\n    <tr>\n      <th>1</th>\n      <td>4</td>\n      <td>NaN</td>\n      <td>NaN</td>\n      <td>forest fire near la ronge sask. canada</td>\n      <td>1</td>\n    </tr>\n    <tr>\n      <th>2</th>\n      <td>5</td>\n      <td>NaN</td>\n      <td>NaN</td>\n      <td>all residents asked to 'shelter in place' are ...</td>\n      <td>1</td>\n    </tr>\n    <tr>\n      <th>3</th>\n      <td>6</td>\n      <td>NaN</td>\n      <td>NaN</td>\n      <td>13,000 people receive #wildfires evacuation or...</td>\n      <td>1</td>\n    </tr>\n    <tr>\n      <th>4</th>\n      <td>7</td>\n      <td>NaN</td>\n      <td>NaN</td>\n      <td>just got sent this photo from ruby #alaska as ...</td>\n      <td>1</td>\n    </tr>\n  </tbody>\n</table>\n</div>"
     },
     "metadata": {}
    }
   ]
  },
  {
   "cell_type": "markdown",
   "source": "### Remover caracteres especiales",
   "metadata": {
    "cell_id": "6ea5d2c54c864490933e3bfe1fecd8de",
    "tags": [],
    "deepnote_app_coordinates": {
     "x": 0,
     "y": 61,
     "w": 12,
     "h": 5
    },
    "deepnote_cell_type": "markdown",
    "deepnote_cell_height": 61.600006103515625
   }
  },
  {
   "cell_type": "markdown",
   "source": "Se eliminarán todas las palabras que empiezan con '@', ya que hacen referencia a un usuario. Esto es para evitar que la red neuronal sea afectada por nombres de usuarios complejos, como *@wildifires_are_bad*.",
   "metadata": {
    "cell_id": "d78c181ec6c74502a179e7c1f0feeb34",
    "tags": [],
    "deepnote_app_coordinates": {
     "x": 0,
     "y": 67,
     "w": 12,
     "h": 5
    },
    "deepnote_cell_type": "markdown",
    "deepnote_cell_height": 74.39999389648438
   }
  },
  {
   "cell_type": "code",
   "source": "expression = r\"\\B@\\w*\"\ndata['text'] = data['text'].apply(lambda s: re.sub(expression, \"\", s))\ndata.head()",
   "metadata": {
    "cell_id": "7c80f7903a2e4ab69c7999a397896c5d",
    "tags": [],
    "deepnote_to_be_reexecuted": false,
    "source_hash": "72181cfc",
    "execution_start": 1663653832970,
    "execution_millis": 462,
    "deepnote_table_state": {
     "pageSize": 10,
     "pageIndex": 3,
     "filters": [],
     "sortBy": []
    },
    "deepnote_table_loading": false,
    "deepnote_app_coordinates": {
     "x": 0,
     "y": 73,
     "w": 12,
     "h": 5
    },
    "deepnote_cell_type": "code",
    "deepnote_cell_height": 425.20001220703125,
    "deepnote_output_heights": [
     39
    ]
   },
   "execution_count": 7,
   "outputs": [
    {
     "output_type": "execute_result",
     "execution_count": 7,
     "data": {
      "application/vnd.deepnote.dataframe.v3+json": {
       "column_count": 5,
       "row_count": 5,
       "columns": [
        {
         "name": "id",
         "dtype": "int64",
         "stats": {
          "unique_count": 5,
          "nan_count": 0,
          "min": "1",
          "max": "7",
          "histogram": [
           {
            "bin_start": 1,
            "bin_end": 1.6,
            "count": 1
           },
           {
            "bin_start": 1.6,
            "bin_end": 2.2,
            "count": 0
           },
           {
            "bin_start": 2.2,
            "bin_end": 2.8,
            "count": 0
           },
           {
            "bin_start": 2.8,
            "bin_end": 3.4,
            "count": 0
           },
           {
            "bin_start": 3.4,
            "bin_end": 4,
            "count": 0
           },
           {
            "bin_start": 4,
            "bin_end": 4.6,
            "count": 1
           },
           {
            "bin_start": 4.6,
            "bin_end": 5.2,
            "count": 1
           },
           {
            "bin_start": 5.2,
            "bin_end": 5.8,
            "count": 0
           },
           {
            "bin_start": 5.8,
            "bin_end": 6.3999999999999995,
            "count": 1
           },
           {
            "bin_start": 6.3999999999999995,
            "bin_end": 7,
            "count": 1
           }
          ]
         }
        },
        {
         "name": "keyword",
         "dtype": "object",
         "stats": {
          "unique_count": 0,
          "nan_count": 5,
          "categories": [
           {
            "name": "Missing",
            "count": 5
           }
          ]
         }
        },
        {
         "name": "location",
         "dtype": "object",
         "stats": {
          "unique_count": 0,
          "nan_count": 5,
          "categories": [
           {
            "name": "Missing",
            "count": 5
           }
          ]
         }
        },
        {
         "name": "text",
         "dtype": "object",
         "stats": {
          "unique_count": 5,
          "nan_count": 0,
          "categories": [
           {
            "name": "our deeds are the reason of this #earthquake may allah forgive us all",
            "count": 1
           },
           {
            "name": "forest fire near la ronge sask. canada",
            "count": 1
           },
           {
            "name": "3 others",
            "count": 3
           }
          ]
         }
        },
        {
         "name": "target",
         "dtype": "int64",
         "stats": {
          "unique_count": 1,
          "nan_count": 0,
          "min": "1",
          "max": "1",
          "histogram": [
           {
            "bin_start": 0.5,
            "bin_end": 0.6,
            "count": 0
           },
           {
            "bin_start": 0.6,
            "bin_end": 0.7,
            "count": 0
           },
           {
            "bin_start": 0.7,
            "bin_end": 0.8,
            "count": 0
           },
           {
            "bin_start": 0.8,
            "bin_end": 0.9,
            "count": 0
           },
           {
            "bin_start": 0.9,
            "bin_end": 1,
            "count": 0
           },
           {
            "bin_start": 1,
            "bin_end": 1.1,
            "count": 5
           },
           {
            "bin_start": 1.1,
            "bin_end": 1.2000000000000002,
            "count": 0
           },
           {
            "bin_start": 1.2000000000000002,
            "bin_end": 1.3,
            "count": 0
           },
           {
            "bin_start": 1.3,
            "bin_end": 1.4,
            "count": 0
           },
           {
            "bin_start": 1.4,
            "bin_end": 1.5,
            "count": 0
           }
          ]
         }
        },
        {
         "name": "_deepnote_index_column",
         "dtype": "int64"
        }
       ],
       "rows": [
        {
         "id": "1",
         "keyword": "nan",
         "location": "nan",
         "text": "our deeds are the reason of this #earthquake may allah forgive us all",
         "target": "1",
         "_deepnote_index_column": "0"
        },
        {
         "id": "4",
         "keyword": "nan",
         "location": "nan",
         "text": "forest fire near la ronge sask. canada",
         "target": "1",
         "_deepnote_index_column": "1"
        },
        {
         "id": "5",
         "keyword": "nan",
         "location": "nan",
         "text": "all residents asked to 'shelter in place' are being notified by officers. no other evacuation or shelter in place orders are expected",
         "target": "1",
         "_deepnote_index_column": "2"
        },
        {
         "id": "6",
         "keyword": "nan",
         "location": "nan",
         "text": "13,000 people receive #wildfires evacuation orders in california ",
         "target": "1",
         "_deepnote_index_column": "3"
        },
        {
         "id": "7",
         "keyword": "nan",
         "location": "nan",
         "text": "just got sent this photo from ruby #alaska as smoke from #wildfires pours into a school ",
         "target": "1",
         "_deepnote_index_column": "4"
        }
       ]
      },
      "text/plain": "   id keyword location                                               text  \\\n0   1     NaN      NaN  our deeds are the reason of this #earthquake m...   \n1   4     NaN      NaN             forest fire near la ronge sask. canada   \n2   5     NaN      NaN  all residents asked to 'shelter in place' are ...   \n3   6     NaN      NaN  13,000 people receive #wildfires evacuation or...   \n4   7     NaN      NaN  just got sent this photo from ruby #alaska as ...   \n\n   target  \n0       1  \n1       1  \n2       1  \n3       1  \n4       1  ",
      "text/html": "<div>\n<style scoped>\n    .dataframe tbody tr th:only-of-type {\n        vertical-align: middle;\n    }\n\n    .dataframe tbody tr th {\n        vertical-align: top;\n    }\n\n    .dataframe thead th {\n        text-align: right;\n    }\n</style>\n<table border=\"1\" class=\"dataframe\">\n  <thead>\n    <tr style=\"text-align: right;\">\n      <th></th>\n      <th>id</th>\n      <th>keyword</th>\n      <th>location</th>\n      <th>text</th>\n      <th>target</th>\n    </tr>\n  </thead>\n  <tbody>\n    <tr>\n      <th>0</th>\n      <td>1</td>\n      <td>NaN</td>\n      <td>NaN</td>\n      <td>our deeds are the reason of this #earthquake m...</td>\n      <td>1</td>\n    </tr>\n    <tr>\n      <th>1</th>\n      <td>4</td>\n      <td>NaN</td>\n      <td>NaN</td>\n      <td>forest fire near la ronge sask. canada</td>\n      <td>1</td>\n    </tr>\n    <tr>\n      <th>2</th>\n      <td>5</td>\n      <td>NaN</td>\n      <td>NaN</td>\n      <td>all residents asked to 'shelter in place' are ...</td>\n      <td>1</td>\n    </tr>\n    <tr>\n      <th>3</th>\n      <td>6</td>\n      <td>NaN</td>\n      <td>NaN</td>\n      <td>13,000 people receive #wildfires evacuation or...</td>\n      <td>1</td>\n    </tr>\n    <tr>\n      <th>4</th>\n      <td>7</td>\n      <td>NaN</td>\n      <td>NaN</td>\n      <td>just got sent this photo from ruby #alaska as ...</td>\n      <td>1</td>\n    </tr>\n  </tbody>\n</table>\n</div>"
     },
     "metadata": {}
    }
   ]
  },
  {
   "cell_type": "markdown",
   "source": "Para facilitar el aprendizaje del modelo, se removerán todos los caracteres que no son letras.",
   "metadata": {
    "cell_id": "c7cf837a021c412dbcea0015a9cadc1b",
    "tags": [],
    "deepnote_app_coordinates": {
     "x": 0,
     "y": 115,
     "w": 12,
     "h": 5
    },
    "deepnote_cell_type": "markdown",
    "deepnote_cell_height": 52
   }
  },
  {
   "cell_type": "code",
   "source": "expression = \"[^a-z ]\"\ndata['text'] = data['text'].apply(lambda s: re.sub(expression, \"\", s))\ndata.head()",
   "metadata": {
    "cell_id": "ec54dc8382db48c9872c276363a12f59",
    "tags": [],
    "deepnote_to_be_reexecuted": false,
    "source_hash": "868df8b5",
    "execution_start": 1663653833014,
    "execution_millis": 418,
    "deepnote_table_state": {
     "pageSize": 10,
     "pageIndex": 3,
     "filters": [],
     "sortBy": []
    },
    "deepnote_table_loading": false,
    "deepnote_app_coordinates": {
     "x": 0,
     "y": 79,
     "w": 12,
     "h": 5
    },
    "deepnote_cell_type": "code",
    "deepnote_cell_height": 425.20001220703125
   },
   "execution_count": 8,
   "outputs": [
    {
     "output_type": "execute_result",
     "execution_count": 8,
     "data": {
      "application/vnd.deepnote.dataframe.v3+json": {
       "column_count": 5,
       "row_count": 5,
       "columns": [
        {
         "name": "id",
         "dtype": "int64",
         "stats": {
          "unique_count": 5,
          "nan_count": 0,
          "min": "1",
          "max": "7",
          "histogram": [
           {
            "bin_start": 1,
            "bin_end": 1.6,
            "count": 1
           },
           {
            "bin_start": 1.6,
            "bin_end": 2.2,
            "count": 0
           },
           {
            "bin_start": 2.2,
            "bin_end": 2.8,
            "count": 0
           },
           {
            "bin_start": 2.8,
            "bin_end": 3.4,
            "count": 0
           },
           {
            "bin_start": 3.4,
            "bin_end": 4,
            "count": 0
           },
           {
            "bin_start": 4,
            "bin_end": 4.6,
            "count": 1
           },
           {
            "bin_start": 4.6,
            "bin_end": 5.2,
            "count": 1
           },
           {
            "bin_start": 5.2,
            "bin_end": 5.8,
            "count": 0
           },
           {
            "bin_start": 5.8,
            "bin_end": 6.3999999999999995,
            "count": 1
           },
           {
            "bin_start": 6.3999999999999995,
            "bin_end": 7,
            "count": 1
           }
          ]
         }
        },
        {
         "name": "keyword",
         "dtype": "object",
         "stats": {
          "unique_count": 0,
          "nan_count": 5,
          "categories": [
           {
            "name": "Missing",
            "count": 5
           }
          ]
         }
        },
        {
         "name": "location",
         "dtype": "object",
         "stats": {
          "unique_count": 0,
          "nan_count": 5,
          "categories": [
           {
            "name": "Missing",
            "count": 5
           }
          ]
         }
        },
        {
         "name": "text",
         "dtype": "object",
         "stats": {
          "unique_count": 5,
          "nan_count": 0,
          "categories": [
           {
            "name": "our deeds are the reason of this earthquake may allah forgive us all",
            "count": 1
           },
           {
            "name": "forest fire near la ronge sask canada",
            "count": 1
           },
           {
            "name": "3 others",
            "count": 3
           }
          ]
         }
        },
        {
         "name": "target",
         "dtype": "int64",
         "stats": {
          "unique_count": 1,
          "nan_count": 0,
          "min": "1",
          "max": "1",
          "histogram": [
           {
            "bin_start": 0.5,
            "bin_end": 0.6,
            "count": 0
           },
           {
            "bin_start": 0.6,
            "bin_end": 0.7,
            "count": 0
           },
           {
            "bin_start": 0.7,
            "bin_end": 0.8,
            "count": 0
           },
           {
            "bin_start": 0.8,
            "bin_end": 0.9,
            "count": 0
           },
           {
            "bin_start": 0.9,
            "bin_end": 1,
            "count": 0
           },
           {
            "bin_start": 1,
            "bin_end": 1.1,
            "count": 5
           },
           {
            "bin_start": 1.1,
            "bin_end": 1.2000000000000002,
            "count": 0
           },
           {
            "bin_start": 1.2000000000000002,
            "bin_end": 1.3,
            "count": 0
           },
           {
            "bin_start": 1.3,
            "bin_end": 1.4,
            "count": 0
           },
           {
            "bin_start": 1.4,
            "bin_end": 1.5,
            "count": 0
           }
          ]
         }
        },
        {
         "name": "_deepnote_index_column",
         "dtype": "int64"
        }
       ],
       "rows": [
        {
         "id": "1",
         "keyword": "nan",
         "location": "nan",
         "text": "our deeds are the reason of this earthquake may allah forgive us all",
         "target": "1",
         "_deepnote_index_column": "0"
        },
        {
         "id": "4",
         "keyword": "nan",
         "location": "nan",
         "text": "forest fire near la ronge sask canada",
         "target": "1",
         "_deepnote_index_column": "1"
        },
        {
         "id": "5",
         "keyword": "nan",
         "location": "nan",
         "text": "all residents asked to shelter in place are being notified by officers no other evacuation or shelter in place orders are expected",
         "target": "1",
         "_deepnote_index_column": "2"
        },
        {
         "id": "6",
         "keyword": "nan",
         "location": "nan",
         "text": " people receive wildfires evacuation orders in california ",
         "target": "1",
         "_deepnote_index_column": "3"
        },
        {
         "id": "7",
         "keyword": "nan",
         "location": "nan",
         "text": "just got sent this photo from ruby alaska as smoke from wildfires pours into a school ",
         "target": "1",
         "_deepnote_index_column": "4"
        }
       ]
      },
      "text/plain": "   id keyword location                                               text  \\\n0   1     NaN      NaN  our deeds are the reason of this earthquake ma...   \n1   4     NaN      NaN              forest fire near la ronge sask canada   \n2   5     NaN      NaN  all residents asked to shelter in place are be...   \n3   6     NaN      NaN   people receive wildfires evacuation orders in...   \n4   7     NaN      NaN  just got sent this photo from ruby alaska as s...   \n\n   target  \n0       1  \n1       1  \n2       1  \n3       1  \n4       1  ",
      "text/html": "<div>\n<style scoped>\n    .dataframe tbody tr th:only-of-type {\n        vertical-align: middle;\n    }\n\n    .dataframe tbody tr th {\n        vertical-align: top;\n    }\n\n    .dataframe thead th {\n        text-align: right;\n    }\n</style>\n<table border=\"1\" class=\"dataframe\">\n  <thead>\n    <tr style=\"text-align: right;\">\n      <th></th>\n      <th>id</th>\n      <th>keyword</th>\n      <th>location</th>\n      <th>text</th>\n      <th>target</th>\n    </tr>\n  </thead>\n  <tbody>\n    <tr>\n      <th>0</th>\n      <td>1</td>\n      <td>NaN</td>\n      <td>NaN</td>\n      <td>our deeds are the reason of this earthquake ma...</td>\n      <td>1</td>\n    </tr>\n    <tr>\n      <th>1</th>\n      <td>4</td>\n      <td>NaN</td>\n      <td>NaN</td>\n      <td>forest fire near la ronge sask canada</td>\n      <td>1</td>\n    </tr>\n    <tr>\n      <th>2</th>\n      <td>5</td>\n      <td>NaN</td>\n      <td>NaN</td>\n      <td>all residents asked to shelter in place are be...</td>\n      <td>1</td>\n    </tr>\n    <tr>\n      <th>3</th>\n      <td>6</td>\n      <td>NaN</td>\n      <td>NaN</td>\n      <td>people receive wildfires evacuation orders in...</td>\n      <td>1</td>\n    </tr>\n    <tr>\n      <th>4</th>\n      <td>7</td>\n      <td>NaN</td>\n      <td>NaN</td>\n      <td>just got sent this photo from ruby alaska as s...</td>\n      <td>1</td>\n    </tr>\n  </tbody>\n</table>\n</div>"
     },
     "metadata": {}
    }
   ]
  },
  {
   "cell_type": "markdown",
   "source": "### Quitar las \"stopwords\"\nLos *stopwords* son palabras que no proporcionan mucho significado a una frase desde el punto de vista de ML. La librería nltk proporciona una lista de stopwords en diferentes idiomas.",
   "metadata": {
    "cell_id": "142dac48268b4bdbb04c8f5bf10d13ce",
    "tags": [],
    "deepnote_app_coordinates": {
     "x": 0,
     "y": 85,
     "w": 12,
     "h": 5
    },
    "deepnote_cell_type": "markdown",
    "deepnote_cell_height": 122.39999389648438
   }
  },
  {
   "cell_type": "code",
   "source": "stopwords = nltk.corpus.stopwords.words('english')\n\ndef remove_stopwords(s):\n    words = [word for word in s.split(\" \") if not word in stopwords]\n    return \" \".join(words)\n\ndata['text'] = data['text'].apply(remove_stopwords)\ndata.head()",
   "metadata": {
    "cell_id": "ac6729a9e3ac48d3bab27e71393aee91",
    "tags": [],
    "deepnote_to_be_reexecuted": false,
    "source_hash": "ccb9f03b",
    "execution_start": 1663653833089,
    "execution_millis": 345,
    "deepnote_table_state": {
     "pageSize": 100,
     "pageIndex": 0,
     "filters": [],
     "sortBy": []
    },
    "deepnote_table_loading": false,
    "deepnote_app_coordinates": {
     "x": 0,
     "y": 133,
     "w": 12,
     "h": 5
    },
    "deepnote_cell_type": "code",
    "deepnote_cell_height": 515.2000122070312,
    "deepnote_output_heights": [
     610
    ]
   },
   "outputs": [
    {
     "output_type": "execute_result",
     "execution_count": 9,
     "data": {
      "application/vnd.deepnote.dataframe.v3+json": {
       "column_count": 5,
       "row_count": 5,
       "columns": [
        {
         "name": "id",
         "dtype": "int64",
         "stats": {
          "unique_count": 5,
          "nan_count": 0,
          "min": "1",
          "max": "7",
          "histogram": [
           {
            "bin_start": 1,
            "bin_end": 1.6,
            "count": 1
           },
           {
            "bin_start": 1.6,
            "bin_end": 2.2,
            "count": 0
           },
           {
            "bin_start": 2.2,
            "bin_end": 2.8,
            "count": 0
           },
           {
            "bin_start": 2.8,
            "bin_end": 3.4,
            "count": 0
           },
           {
            "bin_start": 3.4,
            "bin_end": 4,
            "count": 0
           },
           {
            "bin_start": 4,
            "bin_end": 4.6,
            "count": 1
           },
           {
            "bin_start": 4.6,
            "bin_end": 5.2,
            "count": 1
           },
           {
            "bin_start": 5.2,
            "bin_end": 5.8,
            "count": 0
           },
           {
            "bin_start": 5.8,
            "bin_end": 6.3999999999999995,
            "count": 1
           },
           {
            "bin_start": 6.3999999999999995,
            "bin_end": 7,
            "count": 1
           }
          ]
         }
        },
        {
         "name": "keyword",
         "dtype": "object",
         "stats": {
          "unique_count": 0,
          "nan_count": 5,
          "categories": [
           {
            "name": "Missing",
            "count": 5
           }
          ]
         }
        },
        {
         "name": "location",
         "dtype": "object",
         "stats": {
          "unique_count": 0,
          "nan_count": 5,
          "categories": [
           {
            "name": "Missing",
            "count": 5
           }
          ]
         }
        },
        {
         "name": "text",
         "dtype": "object",
         "stats": {
          "unique_count": 5,
          "nan_count": 0,
          "categories": [
           {
            "name": "deeds reason earthquake may allah forgive us",
            "count": 1
           },
           {
            "name": "forest fire near la ronge sask canada",
            "count": 1
           },
           {
            "name": "3 others",
            "count": 3
           }
          ]
         }
        },
        {
         "name": "target",
         "dtype": "int64",
         "stats": {
          "unique_count": 1,
          "nan_count": 0,
          "min": "1",
          "max": "1",
          "histogram": [
           {
            "bin_start": 0.5,
            "bin_end": 0.6,
            "count": 0
           },
           {
            "bin_start": 0.6,
            "bin_end": 0.7,
            "count": 0
           },
           {
            "bin_start": 0.7,
            "bin_end": 0.8,
            "count": 0
           },
           {
            "bin_start": 0.8,
            "bin_end": 0.9,
            "count": 0
           },
           {
            "bin_start": 0.9,
            "bin_end": 1,
            "count": 0
           },
           {
            "bin_start": 1,
            "bin_end": 1.1,
            "count": 5
           },
           {
            "bin_start": 1.1,
            "bin_end": 1.2000000000000002,
            "count": 0
           },
           {
            "bin_start": 1.2000000000000002,
            "bin_end": 1.3,
            "count": 0
           },
           {
            "bin_start": 1.3,
            "bin_end": 1.4,
            "count": 0
           },
           {
            "bin_start": 1.4,
            "bin_end": 1.5,
            "count": 0
           }
          ]
         }
        },
        {
         "name": "_deepnote_index_column",
         "dtype": "int64"
        }
       ],
       "rows": [
        {
         "id": "1",
         "keyword": "nan",
         "location": "nan",
         "text": "deeds reason earthquake may allah forgive us",
         "target": "1",
         "_deepnote_index_column": "0"
        },
        {
         "id": "4",
         "keyword": "nan",
         "location": "nan",
         "text": "forest fire near la ronge sask canada",
         "target": "1",
         "_deepnote_index_column": "1"
        },
        {
         "id": "5",
         "keyword": "nan",
         "location": "nan",
         "text": "residents asked shelter place notified officers evacuation shelter place orders expected",
         "target": "1",
         "_deepnote_index_column": "2"
        },
        {
         "id": "6",
         "keyword": "nan",
         "location": "nan",
         "text": " people receive wildfires evacuation orders california ",
         "target": "1",
         "_deepnote_index_column": "3"
        },
        {
         "id": "7",
         "keyword": "nan",
         "location": "nan",
         "text": "got sent photo ruby alaska smoke wildfires pours school ",
         "target": "1",
         "_deepnote_index_column": "4"
        }
       ]
      },
      "text/plain": "   id keyword location                                               text  \\\n0   1     NaN      NaN       deeds reason earthquake may allah forgive us   \n1   4     NaN      NaN              forest fire near la ronge sask canada   \n2   5     NaN      NaN  residents asked shelter place notified officer...   \n3   6     NaN      NaN   people receive wildfires evacuation orders ca...   \n4   7     NaN      NaN  got sent photo ruby alaska smoke wildfires pou...   \n\n   target  \n0       1  \n1       1  \n2       1  \n3       1  \n4       1  ",
      "text/html": "<div>\n<style scoped>\n    .dataframe tbody tr th:only-of-type {\n        vertical-align: middle;\n    }\n\n    .dataframe tbody tr th {\n        vertical-align: top;\n    }\n\n    .dataframe thead th {\n        text-align: right;\n    }\n</style>\n<table border=\"1\" class=\"dataframe\">\n  <thead>\n    <tr style=\"text-align: right;\">\n      <th></th>\n      <th>id</th>\n      <th>keyword</th>\n      <th>location</th>\n      <th>text</th>\n      <th>target</th>\n    </tr>\n  </thead>\n  <tbody>\n    <tr>\n      <th>0</th>\n      <td>1</td>\n      <td>NaN</td>\n      <td>NaN</td>\n      <td>deeds reason earthquake may allah forgive us</td>\n      <td>1</td>\n    </tr>\n    <tr>\n      <th>1</th>\n      <td>4</td>\n      <td>NaN</td>\n      <td>NaN</td>\n      <td>forest fire near la ronge sask canada</td>\n      <td>1</td>\n    </tr>\n    <tr>\n      <th>2</th>\n      <td>5</td>\n      <td>NaN</td>\n      <td>NaN</td>\n      <td>residents asked shelter place notified officer...</td>\n      <td>1</td>\n    </tr>\n    <tr>\n      <th>3</th>\n      <td>6</td>\n      <td>NaN</td>\n      <td>NaN</td>\n      <td>people receive wildfires evacuation orders ca...</td>\n      <td>1</td>\n    </tr>\n    <tr>\n      <th>4</th>\n      <td>7</td>\n      <td>NaN</td>\n      <td>NaN</td>\n      <td>got sent photo ruby alaska smoke wildfires pou...</td>\n      <td>1</td>\n    </tr>\n  </tbody>\n</table>\n</div>"
     },
     "metadata": {}
    }
   ],
   "execution_count": 9
  },
  {
   "cell_type": "markdown",
   "source": "## Unigramas y Bigramas",
   "metadata": {
    "cell_id": "b6600e297aac4a28ae05121747088b98",
    "tags": [],
    "deepnote_app_coordinates": {
     "x": 0,
     "y": 91,
     "w": 12,
     "h": 5
    },
    "deepnote_cell_type": "markdown",
    "deepnote_cell_height": 69.60000610351562
   }
  },
  {
   "cell_type": "code",
   "source": "real_disaster = data[data.target == 1].text\nfake_disaster = data[data.target == 0].text\nreal_disaster",
   "metadata": {
    "cell_id": "678125f51763470ba9a23c0df879a9e1",
    "tags": [],
    "deepnote_to_be_reexecuted": false,
    "source_hash": "175a2ba4",
    "execution_start": 1663653833262,
    "execution_millis": 172,
    "deepnote_app_coordinates": {
     "x": 0,
     "y": 127,
     "w": 12,
     "h": 5
    },
    "deepnote_cell_type": "code",
    "deepnote_cell_height": 358.3999938964844,
    "deepnote_output_heights": [
     231
    ]
   },
   "outputs": [
    {
     "output_type": "execute_result",
     "execution_count": 10,
     "data": {
      "text/plain": "0            deeds reason earthquake may allah forgive us\n1                   forest fire near la ronge sask canada\n2       residents asked shelter place notified officer...\n3        people receive wildfires evacuation orders ca...\n4       got sent photo ruby alaska smoke wildfires pou...\n                              ...                        \n7608    two giant cranes holding bridge collapse nearb...\n7609      control wild fires california even northern ...\n7610                                utckm volcano hawaii \n7611    police investigating ebike collided car little...\n7612    latest homes razed northern california wildfir...\nName: text, Length: 3271, dtype: object"
     },
     "metadata": {}
    }
   ],
   "execution_count": 10
  },
  {
   "cell_type": "code",
   "source": "real_unigrams = real_disaster.apply(lambda s: TextBlob(s).ngrams(n=1))\nfake_unigrams = fake_disaster.apply(lambda s: TextBlob(s).ngrams(n=1))\nreal_bigrams = real_disaster.apply(lambda s: TextBlob(s).ngrams(n=2))\nfake_bigrams = fake_disaster.apply(lambda s: TextBlob(s).ngrams(n=2))\n# Frecuencia de palabras en un desastre real\nunireal = defaultdict(int)\nunifake = defaultdict(int)\nbireal = defaultdict(int)\nbifake = defaultdict(int)\nfor gram in real_unigrams:\n    for word in gram:\n        unireal[word[0]] += 1\nfor gram in fake_unigrams:\n    for word in gram:\n        unifake[word[0]] += 1\nfor word in real_bigrams:\n    for gram in word:\n        bireal[' '.join(gram)] += 1\nfor word in fake_bigrams:\n    for gram in word:\n        bifake[' '.join(gram)] += 1\n# visualizacion de frecuencias\ndf_unireal = pd.DataFrame([[key, unireal[key]] for key in unireal.keys()], columns=['Word', 'Count']).sort_values(by='Count', ascending=False)\ndf_unifake = pd.DataFrame([[key, unifake[key]] for key in unifake.keys()], columns=['Word', 'Count']).sort_values(by='Count', ascending=False)\ndf_bireal = pd.DataFrame([[key, bireal[key]] for key in bireal.keys()], columns=['Word', 'Count']).sort_values(by='Count', ascending=False)\ndf_bifake = pd.DataFrame([[key, bifake[key]] for key in bifake.keys()], columns=['Word', 'Count']).sort_values(by='Count', ascending=False)",
   "metadata": {
    "cell_id": "cbccb29c926f47529f6d73ad28694bc9",
    "tags": [],
    "deepnote_to_be_reexecuted": false,
    "source_hash": "ddf8a102",
    "execution_start": 1663653833305,
    "execution_millis": 3301,
    "deepnote_app_coordinates": {
     "x": 0,
     "y": 109,
     "w": 12,
     "h": 5
    },
    "deepnote_cell_type": "code",
    "deepnote_cell_height": 530.5999755859375,
    "deepnote_output_heights": [
     20,
     442
    ]
   },
   "outputs": [],
   "execution_count": 11
  },
  {
   "cell_type": "code",
   "source": "sns.barplot(y=df_unireal.Word.head(15), x=df_unireal.Count.head(15))",
   "metadata": {
    "cell_id": "bc3b0b03a333423da75bf2a7dd287ad1",
    "tags": [],
    "deepnote_to_be_reexecuted": false,
    "source_hash": "a72903f7",
    "execution_start": 1663653836621,
    "execution_millis": 343,
    "deepnote_app_coordinates": {
     "x": 0,
     "y": 145,
     "w": 12,
     "h": 5
    },
    "deepnote_cell_type": "code",
    "deepnote_cell_height": 122.19999694824219,
    "deepnote_output_heights": [
     20,
     442
    ]
   },
   "outputs": [
    {
     "output_type": "execute_result",
     "execution_count": 12,
     "data": {
      "text/plain": "<AxesSubplot:xlabel='Count', ylabel='Word'>"
     },
     "metadata": {}
    },
    {
     "data": {
      "text/plain": "<Figure size 640x480 with 1 Axes>",
      "image/png": "[encoded data removed]"
     },
     "metadata": {
      "image/png": {
       "width": 628,
       "height": 441
      }
     },
     "output_type": "display_data"
    }
   ],
   "execution_count": 12
  },
  {
   "cell_type": "code",
   "source": "sns.barplot(y=df_unifake.Word.head(15), x=df_unifake.Count.head(15))",
   "metadata": {
    "cell_id": "1e3034e66f6d4368a93f5495bc9b8358",
    "tags": [],
    "deepnote_to_be_reexecuted": false,
    "source_hash": "1655c1d5",
    "execution_start": 1663653837009,
    "execution_millis": 229,
    "deepnote_app_coordinates": {
     "x": 0,
     "y": 139,
     "w": 12,
     "h": 5
    },
    "deepnote_cell_type": "code",
    "deepnote_cell_height": 564.5999755859375,
    "deepnote_output_heights": [
     20,
     442
    ]
   },
   "outputs": [
    {
     "output_type": "execute_result",
     "execution_count": 13,
     "data": {
      "text/plain": "<AxesSubplot:xlabel='Count', ylabel='Word'>"
     },
     "metadata": {}
    },
    {
     "data": {
      "text/plain": "<Figure size 640x480 with 1 Axes>",
      "image/png": "[encoded data removed]"
     },
     "metadata": {
      "image/png": {
       "width": 604,
       "height": 441
      }
     },
     "output_type": "display_data"
    }
   ],
   "execution_count": 13
  },
  {
   "cell_type": "code",
   "source": "sns.barplot(y=df_bireal.Word.head(15), x=df_bireal.Count.head(15))",
   "metadata": {
    "cell_id": "7ba5883d9baa486398e9d6042052d51f",
    "tags": [],
    "deepnote_to_be_reexecuted": false,
    "source_hash": "6e139b7e",
    "execution_start": 1663653837297,
    "execution_millis": 286,
    "deepnote_app_coordinates": {
     "x": 0,
     "y": 157,
     "w": 12,
     "h": 5
    },
    "deepnote_cell_type": "code",
    "deepnote_cell_height": 122.60000610351562,
    "deepnote_output_heights": [
     20,
     442
    ]
   },
   "outputs": [
    {
     "output_type": "execute_result",
     "execution_count": 14,
     "data": {
      "text/plain": "<AxesSubplot:xlabel='Count', ylabel='Word'>"
     },
     "metadata": {}
    },
    {
     "data": {
      "text/plain": "<Figure size 640x480 with 1 Axes>",
      "image/png": "[encoded data removed]"
     },
     "metadata": {
      "image/png": {
       "width": 714,
       "height": 441
      }
     },
     "output_type": "display_data"
    }
   ],
   "execution_count": 14
  },
  {
   "cell_type": "code",
   "source": "sns.barplot(y=df_bifake.Word.head(15), x=df_bifake.Count.head(15))",
   "metadata": {
    "cell_id": "6b088c507b08429d8fa6e1ce68c31ec2",
    "tags": [],
    "deepnote_to_be_reexecuted": false,
    "source_hash": "88120245",
    "execution_start": 1663653837637,
    "execution_millis": 271,
    "deepnote_app_coordinates": {
     "x": 0,
     "y": 169,
     "w": 12,
     "h": 5
    },
    "deepnote_cell_type": "code",
    "deepnote_cell_height": 142.60000610351562,
    "deepnote_output_heights": [
     20,
     442
    ]
   },
   "outputs": [
    {
     "output_type": "execute_result",
     "execution_count": 15,
     "data": {
      "text/plain": "<AxesSubplot:xlabel='Count', ylabel='Word'>"
     },
     "metadata": {}
    },
    {
     "data": {
      "text/plain": "<Figure size 640x480 with 1 Axes>",
      "image/png": "[encoded data removed]"
     },
     "metadata": {
      "image/png": {
       "width": 711,
       "height": 441
      }
     },
     "output_type": "display_data"
    }
   ],
   "execution_count": 15
  },
  {
   "cell_type": "markdown",
   "source": "## Algoritmo de Clasificación en Tweets",
   "metadata": {
    "cell_id": "5650a4e3b9bb40df8bb1f772f38b81fa",
    "tags": [],
    "deepnote_app_coordinates": {
     "x": 0,
     "y": 97,
     "w": 12,
     "h": 5
    },
    "deepnote_cell_type": "markdown",
    "deepnote_cell_height": 69.60000610351562
   }
  },
  {
   "cell_type": "code",
   "source": "data['positivity'] = data['text'].apply(lambda s: TextBlob(s).sentiment.polarity)\ndata.head()",
   "metadata": {
    "cell_id": "9e3e61790dcd41428832729b981eeb7c",
    "tags": [],
    "deepnote_to_be_reexecuted": false,
    "source_hash": "26b5249",
    "execution_start": 1663653837908,
    "execution_millis": 1574,
    "deepnote_table_state": {
     "pageSize": 10,
     "pageIndex": 3,
     "filters": [],
     "sortBy": [
      {
       "id": "positivity",
       "type": "desc"
      }
     ]
    },
    "deepnote_table_loading": false,
    "deepnote_app_coordinates": {
     "x": 0,
     "y": 103,
     "w": 12,
     "h": 5
    },
    "deepnote_cell_type": "code",
    "deepnote_cell_height": 439.6000061035156,
    "deepnote_output_heights": [
     610
    ]
   },
   "execution_count": 16,
   "outputs": [
    {
     "output_type": "execute_result",
     "execution_count": 16,
     "data": {
      "application/vnd.deepnote.dataframe.v3+json": {
       "column_count": 6,
       "row_count": 5,
       "columns": [
        {
         "name": "id",
         "dtype": "int64",
         "stats": {
          "unique_count": 5,
          "nan_count": 0,
          "min": "1",
          "max": "7",
          "histogram": [
           {
            "bin_start": 1,
            "bin_end": 1.6,
            "count": 1
           },
           {
            "bin_start": 1.6,
            "bin_end": 2.2,
            "count": 0
           },
           {
            "bin_start": 2.2,
            "bin_end": 2.8,
            "count": 0
           },
           {
            "bin_start": 2.8,
            "bin_end": 3.4,
            "count": 0
           },
           {
            "bin_start": 3.4,
            "bin_end": 4,
            "count": 0
           },
           {
            "bin_start": 4,
            "bin_end": 4.6,
            "count": 1
           },
           {
            "bin_start": 4.6,
            "bin_end": 5.2,
            "count": 1
           },
           {
            "bin_start": 5.2,
            "bin_end": 5.8,
            "count": 0
           },
           {
            "bin_start": 5.8,
            "bin_end": 6.3999999999999995,
            "count": 1
           },
           {
            "bin_start": 6.3999999999999995,
            "bin_end": 7,
            "count": 1
           }
          ]
         }
        },
        {
         "name": "keyword",
         "dtype": "object",
         "stats": {
          "unique_count": 0,
          "nan_count": 5,
          "categories": [
           {
            "name": "Missing",
            "count": 5
           }
          ]
         }
        },
        {
         "name": "location",
         "dtype": "object",
         "stats": {
          "unique_count": 0,
          "nan_count": 5,
          "categories": [
           {
            "name": "Missing",
            "count": 5
           }
          ]
         }
        },
        {
         "name": "text",
         "dtype": "object",
         "stats": {
          "unique_count": 5,
          "nan_count": 0,
          "categories": [
           {
            "name": "forest fire near la ronge sask canada",
            "count": 1
           },
           {
            "name": "deeds reason earthquake may allah forgive us",
            "count": 1
           },
           {
            "name": "3 others",
            "count": 3
           }
          ]
         }
        },
        {
         "name": "target",
         "dtype": "int64",
         "stats": {
          "unique_count": 1,
          "nan_count": 0,
          "min": "1",
          "max": "1",
          "histogram": [
           {
            "bin_start": 0.5,
            "bin_end": 0.6,
            "count": 0
           },
           {
            "bin_start": 0.6,
            "bin_end": 0.7,
            "count": 0
           },
           {
            "bin_start": 0.7,
            "bin_end": 0.8,
            "count": 0
           },
           {
            "bin_start": 0.8,
            "bin_end": 0.9,
            "count": 0
           },
           {
            "bin_start": 0.9,
            "bin_end": 1,
            "count": 0
           },
           {
            "bin_start": 1,
            "bin_end": 1.1,
            "count": 5
           },
           {
            "bin_start": 1.1,
            "bin_end": 1.2000000000000002,
            "count": 0
           },
           {
            "bin_start": 1.2000000000000002,
            "bin_end": 1.3,
            "count": 0
           },
           {
            "bin_start": 1.3,
            "bin_end": 1.4,
            "count": 0
           },
           {
            "bin_start": 1.4,
            "bin_end": 1.5,
            "count": 0
           }
          ]
         }
        },
        {
         "name": "positivity",
         "dtype": "float64",
         "stats": {
          "unique_count": 3,
          "nan_count": 0,
          "min": "-0.1",
          "max": "0.1",
          "histogram": [
           {
            "bin_start": -0.1,
            "bin_end": -0.08,
            "count": 1
           },
           {
            "bin_start": -0.08,
            "bin_end": -0.060000000000000005,
            "count": 0
           },
           {
            "bin_start": -0.060000000000000005,
            "bin_end": -0.04000000000000001,
            "count": 0
           },
           {
            "bin_start": -0.04000000000000001,
            "bin_end": -0.020000000000000004,
            "count": 0
           },
           {
            "bin_start": -0.020000000000000004,
            "bin_end": 0,
            "count": 0
           },
           {
            "bin_start": 0,
            "bin_end": 0.01999999999999999,
            "count": 3
           },
           {
            "bin_start": 0.01999999999999999,
            "bin_end": 0.04000000000000001,
            "count": 0
           },
           {
            "bin_start": 0.04000000000000001,
            "bin_end": 0.06,
            "count": 0
           },
           {
            "bin_start": 0.06,
            "bin_end": 0.07999999999999999,
            "count": 0
           },
           {
            "bin_start": 0.07999999999999999,
            "bin_end": 0.1,
            "count": 1
           }
          ]
         }
        },
        {
         "name": "_deepnote_index_column",
         "dtype": "int64"
        }
       ],
       "rows": [
        {
         "id": "4",
         "keyword": "nan",
         "location": "nan",
         "text": "forest fire near la ronge sask canada",
         "target": "1",
         "positivity": "0.1",
         "_deepnote_index_column": "1"
        },
        {
         "id": "1",
         "keyword": "nan",
         "location": "nan",
         "text": "deeds reason earthquake may allah forgive us",
         "target": "1",
         "positivity": "0.0",
         "_deepnote_index_column": "0"
        },
        {
         "id": "6",
         "keyword": "nan",
         "location": "nan",
         "text": " people receive wildfires evacuation orders california ",
         "target": "1",
         "positivity": "0.0",
         "_deepnote_index_column": "3"
        },
        {
         "id": "7",
         "keyword": "nan",
         "location": "nan",
         "text": "got sent photo ruby alaska smoke wildfires pours school ",
         "target": "1",
         "positivity": "0.0",
         "_deepnote_index_column": "4"
        },
        {
         "id": "5",
         "keyword": "nan",
         "location": "nan",
         "text": "residents asked shelter place notified officers evacuation shelter place orders expected",
         "target": "1",
         "positivity": "-0.1",
         "_deepnote_index_column": "2"
        }
       ]
      },
      "text/plain": "   id keyword location                                               text  \\\n0   1     NaN      NaN       deeds reason earthquake may allah forgive us   \n1   4     NaN      NaN              forest fire near la ronge sask canada   \n2   5     NaN      NaN  residents asked shelter place notified officer...   \n3   6     NaN      NaN   people receive wildfires evacuation orders ca...   \n4   7     NaN      NaN  got sent photo ruby alaska smoke wildfires pou...   \n\n   target  positivity  \n0       1         0.0  \n1       1         0.1  \n2       1        -0.1  \n3       1         0.0  \n4       1         0.0  ",
      "text/html": "<div>\n<style scoped>\n    .dataframe tbody tr th:only-of-type {\n        vertical-align: middle;\n    }\n\n    .dataframe tbody tr th {\n        vertical-align: top;\n    }\n\n    .dataframe thead th {\n        text-align: right;\n    }\n</style>\n<table border=\"1\" class=\"dataframe\">\n  <thead>\n    <tr style=\"text-align: right;\">\n      <th></th>\n      <th>id</th>\n      <th>keyword</th>\n      <th>location</th>\n      <th>text</th>\n      <th>target</th>\n      <th>positivity</th>\n    </tr>\n  </thead>\n  <tbody>\n    <tr>\n      <th>0</th>\n      <td>1</td>\n      <td>NaN</td>\n      <td>NaN</td>\n      <td>deeds reason earthquake may allah forgive us</td>\n      <td>1</td>\n      <td>0.0</td>\n    </tr>\n    <tr>\n      <th>1</th>\n      <td>4</td>\n      <td>NaN</td>\n      <td>NaN</td>\n      <td>forest fire near la ronge sask canada</td>\n      <td>1</td>\n      <td>0.1</td>\n    </tr>\n    <tr>\n      <th>2</th>\n      <td>5</td>\n      <td>NaN</td>\n      <td>NaN</td>\n      <td>residents asked shelter place notified officer...</td>\n      <td>1</td>\n      <td>-0.1</td>\n    </tr>\n    <tr>\n      <th>3</th>\n      <td>6</td>\n      <td>NaN</td>\n      <td>NaN</td>\n      <td>people receive wildfires evacuation orders ca...</td>\n      <td>1</td>\n      <td>0.0</td>\n    </tr>\n    <tr>\n      <th>4</th>\n      <td>7</td>\n      <td>NaN</td>\n      <td>NaN</td>\n      <td>got sent photo ruby alaska smoke wildfires pou...</td>\n      <td>1</td>\n      <td>0.0</td>\n    </tr>\n  </tbody>\n</table>\n</div>"
     },
     "metadata": {}
    }
   ]
  },
  {
   "cell_type": "markdown",
   "source": "<a style='text-decoration:none;line-height:16px;display:flex;color:#5B5B62;padding:10px;justify-content:end;' href='https://deepnote.com?utm_source=created-in-deepnote-cell&projectId=d6256abd-9809-4d9d-915d-728b90aa1a2e' target=\"_blank\">\n<img alt='Created in deepnote.com' style='display:inline;max-height:16px;margin:0px;margin-right:7.5px;' src='data:image/svg+xml;base64,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' > </img>\nCreated in <span style='font-weight:600;margin-left:4px;'>Deepnote</span></a>",
   "metadata": {
    "tags": [],
    "created_in_deepnote_cell": true,
    "deepnote_cell_type": "markdown"
   }
  }
 ],
 "nbformat": 4,
 "nbformat_minor": 2,
 "metadata": {
  "orig_nbformat": 2,
  "deepnote": {},
  "deepnote_notebook_id": "d1496e2e-72ce-47e5-afad-190fe99a8664",
  "deepnote_persisted_session": {
   "createdAt": "2022-09-20T03:45:16.377Z"
  },
  "deepnote_execution_queue": [],
  "deepnote_app_layout": "article"
 }
}